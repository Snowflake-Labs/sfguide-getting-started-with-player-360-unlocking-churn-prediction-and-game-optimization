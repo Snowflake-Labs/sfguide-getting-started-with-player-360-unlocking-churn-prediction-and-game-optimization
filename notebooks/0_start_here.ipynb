{
 "metadata": {
  "kernelspec": {
   "display_name": "Streamlit Notebook",
   "name": "streamlit"
  }
 },
 "nbformat_minor": 5,
 "nbformat": 4,
 "cells": [
  {
   "cell_type": "code",
   "id": "3775908f-ca36-4846-8f38-5adca39217f2",
   "metadata": {
    "language": "python",
    "name": "import_packages",
    "resultHeight": 0,
    "collapsed": false
   },
   "source": "# Import python packages\nimport streamlit as st\nimport pandas as pd\nimport snowflake.snowpark.functions as F \nfrom snowflake.ml.modeling.preprocessing import OrdinalEncoder, OneHotEncoder\nfrom sklearn.model_selection import train_test_split\nfrom sklearn.metrics import accuracy_score,confusion_matrix, classification_report\nimport numpy as np\nimport matplotlib.pyplot as plt\nimport seaborn as sns\nimport shap\nimport plotly.graph_objects as go\nfrom datetime import timedelta\nfrom snowflake.ml.registry import Registry\nimport xgboost as xgb\n\n# We can also use Snowpark for our analyses!\nfrom snowflake.snowpark.context import get_active_session\nsession = get_active_session()\n\n\n# Add a query tag to the session.\nsession.query_tag = {\"origin\":\"sf_sit-is\", \n                     \"name\":\"Player_360\", \n                     \"version\":{\"major\":1, \"minor\":0,},\n                     \"attributes\":{\"is_quickstart\":1}}",
   "execution_count": null,
   "outputs": []
  },
  {
   "cell_type": "markdown",
   "id": "c0e8da85-b5d1-4b9a-bbc5-3760beb3255c",
   "metadata": {
    "name": "Churn_Prediction_Model",
    "collapsed": false,
    "resultHeight": 74
   },
   "source": "# Churn Prediction Model"
  },
  {
   "cell_type": "code",
   "id": "f09c7869-f57c-456b-b9cf-ec7e3906484f",
   "metadata": {
    "language": "python",
    "name": "features_df",
    "resultHeight": 176
   },
   "outputs": [],
   "source": "features_df = session.sql(\"\"\"\nSELECT \nr.user_id, \nr.total_logins,\nr.logged_in_after_1_day,\nr.logged_in_after_7_days,\nr.logged_in_after_30_days,\nr.logged_in_in_last_30_days,\nr.days_since_last_login,\nd.age,\nd.gender,\nd.location,\nd.average_sessions_per_active_week,\nd.average_session_duration,\nd.player_type,\nd.total_ads,\nd.avg_purchase_amount_per_ad,\nd.has_support_ticket,\nur.total_points,\nur.rank_name,\n( \n        CASE WHEN VICTORY_ROYALE THEN 1 ELSE 0 END +\n        CASE WHEN ELIMINATION_MILESTONES THEN 1 ELSE 0 END +\n        CASE WHEN SURVIVAL_ACHIEVEMENTS THEN 1 ELSE 0 END +\n        CASE WHEN BUILDING_RESOURCES THEN 1 ELSE 0 END +\n        CASE WHEN EXPLORATION_TRAVEL THEN 1 ELSE 0 END +\n        CASE WHEN WEAPON_USAGE THEN 1 ELSE 0 END +\n        CASE WHEN ASSIST_TEAMMATES THEN 1 ELSE 0 END +\n        CASE WHEN EVENT_CHALLENGES THEN 1 ELSE 0 END +\n        CASE WHEN CREATIVE_MODE THEN 1 ELSE 0 END +\n        CASE WHEN SOCIAL_ACHIEVEMENTS THEN 1 ELSE 0 END\n    ) / 11.0 AS ACHIEVEMENTS_PERCENTAGE,\nae.total_purchases,\nae.proportion_purchased,\nae.average_purchase_amount,\nae.average_ad_engagement_time,\nr.churned\nFROM DANIEL_PLAYER360_PROD.ANALYTIC.RETENTION r \nJOIN DANIEL_PLAYER360_PROD.ANALYTIC.DEMOGRAPHICS d ON r.user_id = d.user_id \nJOIN DANIEL_PLAYER360_PROD.ANALYTIC.USER_RANKINGS ur ON r.user_id = ur.user_id\nJOIN DANIEL_PLAYER360_PROD.RAW.ACHIEVEMENTS a ON r.user_id = a.user_id\nJOIN DANIEL_PLAYER360_PROD.ANALYTIC.AD_ENGAGEMENT ae ON r.user_id = ae.user_id\n\"\"\").to_pandas()\nfeatures_df.head(100)",
   "execution_count": null
  },
  {
   "cell_type": "markdown",
   "id": "473e99f0-1216-4c51-ba76-cedc9e29da4b",
   "metadata": {
    "name": "EDA",
    "collapsed": false,
    "resultHeight": 74
   },
   "source": "# Exploratory Data Analysis"
  },
  {
   "cell_type": "code",
   "id": "4240c94c-a4c9-4d0a-a845-8565d4677c2e",
   "metadata": {
    "language": "python",
    "name": "Features_df_eda",
    "resultHeight": 357
   },
   "outputs": [],
   "source": "features_df.describe()",
   "execution_count": null
  },
  {
   "cell_type": "code",
   "id": "969b414a-5c23-4c2d-8e45-ca277dde7ea0",
   "metadata": {
    "language": "python",
    "name": "age_distribution",
    "resultHeight": 1505
   },
   "outputs": [],
   "source": "# plot distribution of age of playerbase    \nfeatures_df[\"AGE\"].hist(bins=20)\nplt.title(\"Age Distribution\")\nplt.xlabel(\"Age\")\nplt.ylabel(\"Frequency\")\nplt.show()",
   "execution_count": null
  },
  {
   "cell_type": "code",
   "id": "34ff7bb6-9538-4bb6-a400-ae4a0278e6e9",
   "metadata": {
    "language": "python",
    "name": "correlation_metric",
    "resultHeight": 41
   },
   "outputs": [],
   "source": "correlation_matrix = features_df[list(features_df.describe().columns)].corr()\nplt.figure(figsize=(12, 8))\nsns.heatmap(correlation_matrix, annot=True, cmap='coolwarm', fmt='.2f', linewidths=0.5)\nplt.title(\"Correlation Matrix\")\nplt.show()",
   "execution_count": null
  },
  {
   "cell_type": "code",
   "id": "97724a16-addf-463a-864e-574a8169ea99",
   "metadata": {
    "language": "python",
    "name": "churn_by_age",
    "resultHeight": 161
   },
   "outputs": [],
   "source": "features_df['AGE_GROUP'] = pd.cut(features_df['AGE'], bins=[0,12,18, 24, 34, 44, 54, 64, 100], labels=['0_11','12_17','18_24', '25_34', '35_44', '45_54', '55_64', '65+'])\nchurn_by_age = features_df.groupby('AGE_GROUP')['CHURNED'].mean() * 100\nchurn_by_age.plot(kind='bar', title=\"Churn Rate by Age Group\")\nplt.ylabel(\"Churn Rate (%)\")\nplt.show()",
   "execution_count": null
  },
  {
   "cell_type": "code",
   "id": "2bfb0640-5239-460c-8d97-2835b1e1d817",
   "metadata": {
    "language": "python",
    "name": "churn_by_location",
    "resultHeight": 41
   },
   "outputs": [],
   "source": "# Churn by Location!\nchurn_by_location = features_df.groupby('LOCATION')['CHURNED'].mean() * 100\nchurn_by_location.plot(kind='bar', title=\"Churn Rate by Location\")\nplt.ylabel(\"Churn Rate (%)\")\nplt.show()",
   "execution_count": null
  },
  {
   "cell_type": "code",
   "id": "a9f72b80-f38f-4259-8476-0127012904c9",
   "metadata": {
    "language": "python",
    "name": "churn_by_player_type",
    "resultHeight": 41
   },
   "outputs": [],
   "source": "churn_by_player_type = features_df.groupby('PLAYER_TYPE')['CHURNED'].mean() * 100\nchurn_by_player_type.plot(kind='bar', title=\"Churn Rate by Player Type\")\nplt.ylabel(\"Churn Rate (%)\")\nplt.show()",
   "execution_count": null
  },
  {
   "cell_type": "code",
   "id": "0db8352f-d84c-4978-b415-b407062f1be4",
   "metadata": {
    "language": "python",
    "name": "gender_distribution",
    "resultHeight": 41
   },
   "outputs": [],
   "source": "# Graph gender breakdown of playerbase\nfeatures_df['GENDER'].value_counts().plot(kind='pie', autopct='%1.1f%%', title=\"Gender Distribution\")\nplt.show()",
   "execution_count": null
  },
  {
   "cell_type": "code",
   "id": "1d3c9e74-08b4-4fc7-9885-8795cfb86688",
   "metadata": {
    "language": "python",
    "name": "ad_purchases_pairplot",
    "resultHeight": 41
   },
   "outputs": [],
   "source": "# Graph the Purchases and Ad Engagement Information by Churn\nsns.pairplot(features_df[['PROPORTION_PURCHASED', 'AVERAGE_PURCHASE_AMOUNT','AVERAGE_AD_ENGAGEMENT_TIME', 'CHURNED']], diag_kind='kde', hue=\"CHURNED\",palette='husl')\nplt.suptitle('Pair Plot of Purchases and Ad Engagement Information by Churn', y=1.02, fontsize=20)\nplt.tight_layout()\nplt.show()",
   "execution_count": null
  },
  {
   "cell_type": "code",
   "id": "591d0e87-9c08-4f72-989f-0d7c19d39986",
   "metadata": {
    "language": "python",
    "name": "totals_pairplot",
    "resultHeight": 41
   },
   "outputs": [],
   "source": "# Graph Totals pair plot\nsns.pairplot(features_df[['TOTAL_PURCHASES', 'TOTAL_ADS', 'TOTAL_LOGINS', 'TOTAL_POINTS', 'CHURNED']], diag_kind='kde', hue=\"CHURNED\",palette='husl')\nplt.suptitle('Pair Plot of Purchases and Ad Engagement Information by Churn', y=1.02, fontsize=20)\nplt.tight_layout()\nplt.show()",
   "execution_count": null
  },
  {
   "cell_type": "code",
   "id": "e4a4f124-a2ef-4104-bb18-32d6c8bc99c2",
   "metadata": {
    "language": "python",
    "name": "churned_non_churned",
    "resultHeight": 0
   },
   "outputs": [],
   "source": "churned_data = features_df[features_df[\"CHURNED\"] == 1]\nnon_churned_data = features_df[features_df[\"CHURNED\"] == 0]\none_class_count = len(churned_data)\nzero_class_count = len(non_churned_data)",
   "execution_count": null
  },
  {
   "cell_type": "code",
   "id": "9d1a5db8-7168-4894-96d1-8fbb6c5e6032",
   "metadata": {
    "language": "python",
    "name": "totals_churn_relationship",
    "resultHeight": 489
   },
   "outputs": [],
   "source": "# Plot TOTAL_LOGINS vs TOTAL_POINTS vs TOTAL_PURCHASES\nfig = go.Figure()\n\n# Add churned data points (red 'x')\nfig.add_trace(go.Scatter3d(\n    x=churned_data[\"TOTAL_LOGINS\"],\n    y=churned_data[\"TOTAL_POINTS\"],\n    z=churned_data[\"TOTAL_PURCHASES\"],\n    mode='markers',\n    marker=dict(size=6, color='red', symbol='x'),\n    name='Churned'\n))\n\n# Add non-churned data points (blue markers)\nfig.add_trace(go.Scatter3d(\n    x=non_churned_data[\"TOTAL_LOGINS\"],\n    y=non_churned_data[\"TOTAL_POINTS\"],\n    z=non_churned_data[\"TOTAL_PURCHASES\"],\n    mode='markers',\n    marker=dict(size=6, color='blue'),\n    name='Non-Churned'\n))\n\n# Set axis labels and title\nfig.update_layout(\n    title='Interactive 3D Plot of Total Logins, Total Points, and Total Purchases',\n    scene=dict(\n        xaxis_title='Total Logins',\n        yaxis_title='Total Points',\n        zaxis_title='Total Purchases'\n    ),\n    legend=dict(x=0.1, y=0.9)\n)\n\n# Show the plot\nfig",
   "execution_count": null
  },
  {
   "cell_type": "markdown",
   "id": "d29b029c-174d-4495-a13e-54a849980774",
   "metadata": {
    "name": "Feature_Engineering",
    "collapsed": false,
    "resultHeight": 74
   },
   "source": "# Feature Engineering"
  },
  {
   "cell_type": "code",
   "id": "f5aaeaf7-2d0e-46e1-98aa-b9dbbab2e725",
   "metadata": {
    "language": "python",
    "name": "use_ordinal_encoding",
    "resultHeight": 507
   },
   "outputs": [],
   "source": "# use Ordinal Encoding for rank_name\n# use ordinal_encoding for player_type -> Hardcore:1, Casual:0\n# use ordinal encoding for gender -> Female:0, Male:1\ncategories = {\"RANK_NAME\":[\"Bronze\", \"Silver\", \"Gold\", \"Platinum\", \"Diamond\", \"Elite\", \"Champion\", \"Unreal\"],\n             \"PLAYER_TYPE\":[\"Casual\", \"Hardcore\"],\n             \"GENDER\":[\"Female\", \"Male\"]} \nsnowml_oe = OrdinalEncoder(input_cols=[\"RANK_NAME\", \"PLAYER_TYPE\", \"GENDER\"], output_cols=[\"RANK_NAME_OE\", \"PLAYER_TYPE_OE\", \"GENDER_OE\"], categories=categories)\nencoded_feature_df = snowml_oe.fit(features_df).transform(features_df)\nencoded_feature_df.head(10)",
   "execution_count": null
  },
  {
   "cell_type": "code",
   "id": "bd3a0100-299f-49ab-b479-0b06989262e4",
   "metadata": {
    "language": "python",
    "name": "categorical_type_pd",
    "resultHeight": 439
   },
   "outputs": [],
   "source": "encoded_feature_df[\"AGE_GROUP\"] = pd.Categorical(encoded_feature_df[\"AGE_GROUP\"], ordered=False)\nencoded_feature_df[\"LOCATION\"] = pd.Categorical(encoded_feature_df[\"LOCATION\"])\nencoded_feature_df['AGE_GROUP'] = encoded_feature_df['AGE_GROUP'].cat.codes\nencoded_feature_df['LOCATION'] = encoded_feature_df['LOCATION'].cat.codes\nencoded_feature_df['HAS_SUPPORT_TICKET'] = encoded_feature_df['HAS_SUPPORT_TICKET'].astype(int)\nencoded_feature_df.columns = [u.upper().strip('\"') for u in encoded_feature_df.columns]\nencoded_feature_df.columns",
   "execution_count": null
  },
  {
   "cell_type": "code",
   "id": "1aad1c79-570d-44ca-9128-0502e2e13317",
   "metadata": {
    "language": "python",
    "name": "final_features",
    "resultHeight": 439,
    "collapsed": false
   },
   "outputs": [],
   "source": "final_features_df = encoded_feature_df[[\"USER_ID\",\"AGE_GROUP\", \"LOCATION\",\"AVERAGE_SESSIONS_PER_ACTIVE_WEEK\", \"AVERAGE_SESSION_DURATION\", \\\n                                       \"HAS_SUPPORT_TICKET\", \"ACHIEVEMENTS_PERCENTAGE\", \\\n                                        \"PROPORTION_PURCHASED\", \"AVERAGE_PURCHASE_AMOUNT\", \\\n                                        \"AVERAGE_AD_ENGAGEMENT_TIME\",\\\n                                       \"RANK_NAME_OE\", \"PLAYER_TYPE_OE\", \"GENDER_OE\", \\\n                                       \"CHURNED\"]]\nfinal_features_corr_df = final_features_df[list(final_features_df.describe().columns)].corr().round(2)\nfinal_features_corr_df",
   "execution_count": null
  },
  {
   "cell_type": "code",
   "id": "202beaf4-0dcc-4a93-b5a8-dc8faa10d836",
   "metadata": {
    "language": "python",
    "name": "final_features_heatmap",
    "resultHeight": 41,
    "collapsed": false
   },
   "outputs": [],
   "source": "mask = np.triu(np.ones_like(final_features_corr_df, dtype=bool))\n# Create a heatmap with the features\nplt.figure(figsize=(18, 14))\nheatmap = sns.heatmap(final_features_corr_df, mask=mask, cmap=\"YlGnBu\", annot=True, vmin=-1, vmax=1)",
   "execution_count": null
  },
  {
   "cell_type": "markdown",
   "id": "9ab35cfd-0bc5-49b9-b77a-ccbf2cde1a72",
   "metadata": {
    "name": "Model_Training",
    "resultHeight": 74
   },
   "source": "# Model Training"
  },
  {
   "cell_type": "code",
   "id": "a995da83-a290-4a16-a9c3-5b7e093dd727",
   "metadata": {
    "language": "python",
    "name": "write_pandas_features",
    "resultHeight": 0,
    "collapsed": false
   },
   "outputs": [],
   "source": "final_features_df = session.write_pandas(df=final_features_df, \\\n                     table_name=\"CHURN_FEATURES\", database=\"DANIEL_PLAYER360_PROD\", schema=\"APP\", \\\n                     quote_identifiers=False,\n                     auto_create_table=True,\n                     overwrite=True).to_pandas()",
   "execution_count": null
  },
  {
   "cell_type": "code",
   "id": "aa1a8630-3251-466b-bb94-11e1e16bc760",
   "metadata": {
    "language": "python",
    "name": "train_test_split",
    "collapsed": false,
    "resultHeight": 0
   },
   "outputs": [],
   "source": "y = final_features_df['CHURNED']\nX = final_features_df[list(final_features.columns)[1:-1]]\nX_train, X_test, y_train, y_test = train_test_split(X, y, test_size=0.2, random_state=42)",
   "execution_count": null
  },
  {
   "cell_type": "code",
   "id": "40a5cd3a-6816-4cd6-bff6-27ecde6c9f36",
   "metadata": {
    "language": "python",
    "name": "model",
    "collapsed": false,
    "resultHeight": 278
   },
   "outputs": [],
   "source": "model = xgb.XGBClassifier()\nmodel.fit(X_train, y_train)",
   "execution_count": null
  },
  {
   "cell_type": "code",
   "id": "42e275ef-d061-48b3-a419-9e3961ebc901",
   "metadata": {
    "language": "python",
    "name": "predictions",
    "collapsed": false,
    "resultHeight": 239
   },
   "outputs": [],
   "source": "predictions = model.predict_proba(X_test)\ny_pred = [1 if l[1] >= .4 else 0 for l in predictions]\n\n# Confusion matrix\nconf_matrix = confusion_matrix(y_test, y_pred)\nprint(\"Confusion Matrix:\")\nprint(conf_matrix)\n\n# Classification report\nclass_report = classification_report(y_test, y_pred)\nprint(\"Classification Report:\")\nprint(class_report)",
   "execution_count": null
  },
  {
   "cell_type": "markdown",
   "id": "331cad53-2aaf-4762-8951-9ddf98498ce1",
   "metadata": {
    "name": "Model_Registry",
    "collapsed": false,
    "resultHeight": 74
   },
   "source": "# Model Registry"
  },
  {
   "cell_type": "code",
   "id": "ea1eabba-6d3f-42d0-9a98-8d81f101ddae",
   "metadata": {
    "language": "sql",
    "name": "Change_Schema",
    "resultHeight": 112
   },
   "outputs": [],
   "source": "USE SCHEMA APP;",
   "execution_count": null
  },
  {
   "cell_type": "code",
   "id": "624cf022-2f43-4671-b641-f1a43e193cc1",
   "metadata": {
    "language": "python",
    "name": "model_registry_log",
    "resultHeight": 227,
    "collapsed": false
   },
   "outputs": [],
   "source": "from snowflake.ml.registry import Registry\n\nreg = Registry(session=session)\n\nMODEL_NAME = \"Player360_Churn_classifier\"\nMODEL_VERSION = \"v1\"\n\nmv = reg.log_model(model,\n                   model_name=MODEL_NAME,\n                   version_name=MODEL_VERSION,\n                   options={\n                       'relax_version': False,\n                       \"case_sensitive\": True,                  \n    },\n                    sample_input_data=X_test\n)\n\nreg.show_models()",
   "execution_count": null
  },
  {
   "cell_type": "code",
   "id": "0f89677c-10d5-4a5f-8113-0ab9de48fac5",
   "metadata": {
    "language": "python",
    "name": "check_model",
    "resultHeight": 0,
    "collapsed": false
   },
   "outputs": [],
   "source": "model_name = \"PLAYER360_CHURN_CLASSIFIER\"\nmodel_version = \"v1\"\nreg = Registry(session=session) \nmv= reg.get_model(model_name).version(model_version)",
   "execution_count": null
  },
  {
   "cell_type": "code",
   "id": "c74baaf1-9a16-4963-92cb-e0929cb48cc0",
   "metadata": {
    "language": "python",
    "name": "load_model",
    "resultHeight": 95,
    "collapsed": false
   },
   "outputs": [],
   "source": "mv = mv.load()",
   "execution_count": null
  },
  {
   "cell_type": "code",
   "id": "24ee18a8-c821-41bc-be41-28579c2189d6",
   "metadata": {
    "language": "python",
    "name": "shap_explainer",
    "resultHeight": 41
   },
   "outputs": [],
   "source": "explainer = shap.TreeExplainer(mv)\n\n# Calculate SHAP values\nshap_values = explainer(X_test)\n\n# Plot SHAP values\nshap.summary_plot(shap_values, X_test)",
   "execution_count": null
  }
 ]
}