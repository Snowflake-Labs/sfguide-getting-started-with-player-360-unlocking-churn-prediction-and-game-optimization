{
 "cells": [
  {
   "cell_type": "code",
   "execution_count": null,
   "id": "3775908f-ca36-4846-8f38-5adca39217f2",
   "metadata": {
    "collapsed": false,
    "language": "python",
    "name": "import_packages",
    "resultHeight": 0
   },
   "outputs": [],
   "source": [
    "# Import python packages\n",
    "import streamlit as st\n",
    "import pandas as pd\n",
    "import snowflake.snowpark.functions as F \n",
    "from snowflake.ml.modeling.preprocessing import OrdinalEncoder, OneHotEncoder\n",
    "from sklearn.model_selection import train_test_split\n",
    "from sklearn.metrics import accuracy_score,confusion_matrix, classification_report\n",
    "import numpy as np\n",
    "import matplotlib.pyplot as plt\n",
    "import seaborn as sns\n",
    "import shap\n",
    "import plotly.graph_objects as go\n",
    "from datetime import timedelta\n",
    "from snowflake.ml.registry import Registry\n",
    "import xgboost as xgb\n",
    "\n",
    "# We can also use Snowpark for our analyses!\n",
    "from snowflake.snowpark.context import get_active_session\n",
    "session = get_active_session()\n",
    "\n",
    "\n",
    "# Add a query tag to the session.\n",
    "session.query_tag = {\"origin\":\"sf_sit-is\", \n",
    "                     \"name\":\"Player_360\", \n",
    "                     \"version\":{\"major\":1, \"minor\":0,},\n",
    "                     \"attributes\":{\"is_quickstart\":1}}"
   ]
  },
  {
   "cell_type": "markdown",
   "id": "c0e8da85-b5d1-4b9a-bbc5-3760beb3255c",
   "metadata": {
    "collapsed": false,
    "name": "Churn_Prediction_Model",
    "resultHeight": 74
   },
   "source": [
    "# Static Churn Prediction Model"
   ]
  },
  {
   "cell_type": "code",
   "execution_count": null,
   "id": "f09c7869-f57c-456b-b9cf-ec7e3906484f",
   "metadata": {
    "language": "python",
    "name": "features_df",
    "resultHeight": 176
   },
   "outputs": [],
   "source": [
    "features_df = session.sql(\"\"\"\n",
    "SELECT \n",
    "r.user_id, \n",
    "r.total_logins,\n",
    "r.logged_in_after_1_day,\n",
    "r.logged_in_after_7_days,\n",
    "r.logged_in_after_30_days,\n",
    "r.logged_in_in_last_30_days,\n",
    "r.days_since_last_login,\n",
    "d.age,\n",
    "d.gender,\n",
    "d.location,\n",
    "d.average_sessions_per_active_week,\n",
    "d.average_session_duration,\n",
    "d.player_type,\n",
    "d.total_ads,\n",
    "d.avg_purchase_amount_per_ad,\n",
    "d.has_support_ticket,\n",
    "ur.total_points,\n",
    "ur.rank_name,\n",
    "( \n",
    "        CASE WHEN VICTORY_ROYALE THEN 1 ELSE 0 END +\n",
    "        CASE WHEN ELIMINATION_MILESTONES THEN 1 ELSE 0 END +\n",
    "        CASE WHEN SURVIVAL_ACHIEVEMENTS THEN 1 ELSE 0 END +\n",
    "        CASE WHEN BUILDING_RESOURCES THEN 1 ELSE 0 END +\n",
    "        CASE WHEN EXPLORATION_TRAVEL THEN 1 ELSE 0 END +\n",
    "        CASE WHEN WEAPON_USAGE THEN 1 ELSE 0 END +\n",
    "        CASE WHEN ASSIST_TEAMMATES THEN 1 ELSE 0 END +\n",
    "        CASE WHEN EVENT_CHALLENGES THEN 1 ELSE 0 END +\n",
    "        CASE WHEN CREATIVE_MODE THEN 1 ELSE 0 END +\n",
    "        CASE WHEN SOCIAL_ACHIEVEMENTS THEN 1 ELSE 0 END\n",
    "    ) / 11.0 AS ACHIEVEMENTS_PERCENTAGE,\n",
    "ae.total_purchases,\n",
    "ae.proportion_purchased,\n",
    "ae.average_purchase_amount,\n",
    "ae.average_ad_engagement_time,\n",
    "r.churned\n",
    "FROM DANIEL_PLAYER360_PROD.ANALYTIC.RETENTION r \n",
    "JOIN DANIEL_PLAYER360_PROD.ANALYTIC.DEMOGRAPHICS d ON r.user_id = d.user_id \n",
    "JOIN DANIEL_PLAYER360_PROD.ANALYTIC.USER_RANKINGS ur ON r.user_id = ur.user_id\n",
    "JOIN DANIEL_PLAYER360_PROD.RAW.ACHIEVEMENTS a ON r.user_id = a.user_id\n",
    "JOIN DANIEL_PLAYER360_PROD.ANALYTIC.AD_ENGAGEMENT ae ON r.user_id = ae.user_id\n",
    "\"\"\").to_pandas()\n",
    "features_df.head(100)"
   ]
  },
  {
   "cell_type": "markdown",
   "id": "473e99f0-1216-4c51-ba76-cedc9e29da4b",
   "metadata": {
    "collapsed": false,
    "name": "EDA",
    "resultHeight": 74
   },
   "source": [
    "# Exploratory Data Analysis"
   ]
  },
  {
   "cell_type": "code",
   "execution_count": null,
   "id": "4240c94c-a4c9-4d0a-a845-8565d4677c2e",
   "metadata": {
    "language": "python",
    "name": "Features_df_eda",
    "resultHeight": 357
   },
   "outputs": [],
   "source": [
    "features_df.describe()"
   ]
  },
  {
   "cell_type": "code",
   "execution_count": null,
   "id": "969b414a-5c23-4c2d-8e45-ca277dde7ea0",
   "metadata": {
    "language": "python",
    "name": "age_distribution",
    "resultHeight": 1505
   },
   "outputs": [],
   "source": [
    "# plot distribution of age of playerbase    \n",
    "features_df[\"AGE\"].hist(bins=20)\n",
    "plt.title(\"Age Distribution\")\n",
    "plt.xlabel(\"Age\")\n",
    "plt.ylabel(\"Frequency\")\n",
    "plt.show()"
   ]
  },
  {
   "cell_type": "code",
   "execution_count": null,
   "id": "34ff7bb6-9538-4bb6-a400-ae4a0278e6e9",
   "metadata": {
    "language": "python",
    "name": "correlation_metric",
    "resultHeight": 41
   },
   "outputs": [],
   "source": [
    "correlation_matrix = features_df[list(features_df.describe().columns)].corr()\n",
    "plt.figure(figsize=(12, 8))\n",
    "sns.heatmap(correlation_matrix, annot=True, cmap='coolwarm', fmt='.2f', linewidths=0.5)\n",
    "plt.title(\"Correlation Matrix\")\n",
    "plt.show()"
   ]
  },
  {
   "cell_type": "code",
   "execution_count": null,
   "id": "97724a16-addf-463a-864e-574a8169ea99",
   "metadata": {
    "language": "python",
    "name": "churn_by_age",
    "resultHeight": 161
   },
   "outputs": [],
   "source": [
    "features_df['AGE_GROUP'] = pd.cut(features_df['AGE'], bins=[0,12,18, 24, 34, 44, 54, 64, 100], labels=['0_11','12_17','18_24', '25_34', '35_44', '45_54', '55_64', '65+'])\n",
    "churn_by_age = features_df.groupby('AGE_GROUP')['CHURNED'].mean() * 100\n",
    "churn_by_age.plot(kind='bar', title=\"Churn Rate by Age Group\")\n",
    "plt.ylabel(\"Churn Rate (%)\")\n",
    "plt.show()"
   ]
  },
  {
   "cell_type": "code",
   "execution_count": null,
   "id": "2bfb0640-5239-460c-8d97-2835b1e1d817",
   "metadata": {
    "language": "python",
    "name": "churn_by_location",
    "resultHeight": 41
   },
   "outputs": [],
   "source": [
    "# Churn by Location!\n",
    "churn_by_location = features_df.groupby('LOCATION')['CHURNED'].mean() * 100\n",
    "churn_by_location.plot(kind='bar', title=\"Churn Rate by Location\")\n",
    "plt.ylabel(\"Churn Rate (%)\")\n",
    "plt.show()"
   ]
  },
  {
   "cell_type": "code",
   "execution_count": null,
   "id": "a9f72b80-f38f-4259-8476-0127012904c9",
   "metadata": {
    "language": "python",
    "name": "churn_by_player_type",
    "resultHeight": 41
   },
   "outputs": [],
   "source": [
    "churn_by_player_type = features_df.groupby('PLAYER_TYPE')['CHURNED'].mean() * 100\n",
    "churn_by_player_type.plot(kind='bar', title=\"Churn Rate by Player Type\")\n",
    "plt.ylabel(\"Churn Rate (%)\")\n",
    "plt.show()"
   ]
  },
  {
   "cell_type": "code",
   "execution_count": null,
   "id": "0db8352f-d84c-4978-b415-b407062f1be4",
   "metadata": {
    "language": "python",
    "name": "gender_distribution",
    "resultHeight": 41
   },
   "outputs": [],
   "source": [
    "# Graph gender breakdown of playerbase\n",
    "features_df['GENDER'].value_counts().plot(kind='pie', autopct='%1.1f%%', title=\"Gender Distribution\")\n",
    "plt.show()"
   ]
  },
  {
   "cell_type": "code",
   "execution_count": null,
   "id": "1d3c9e74-08b4-4fc7-9885-8795cfb86688",
   "metadata": {
    "language": "python",
    "name": "ad_purchases_pairplot",
    "resultHeight": 41
   },
   "outputs": [],
   "source": [
    "# Graph the Purchases and Ad Engagement Information by Churn\n",
    "sns.pairplot(features_df[['PROPORTION_PURCHASED', 'AVERAGE_PURCHASE_AMOUNT','AVERAGE_AD_ENGAGEMENT_TIME', 'CHURNED']], diag_kind='kde', hue=\"CHURNED\",palette='husl')\n",
    "plt.suptitle('Pair Plot of Purchases and Ad Engagement Information by Churn', y=1.02, fontsize=20)\n",
    "plt.tight_layout()\n",
    "plt.show()"
   ]
  },
  {
   "cell_type": "code",
   "execution_count": null,
   "id": "591d0e87-9c08-4f72-989f-0d7c19d39986",
   "metadata": {
    "language": "python",
    "name": "totals_pairplot",
    "resultHeight": 41
   },
   "outputs": [],
   "source": [
    "# Graph Totals pair plot\n",
    "sns.pairplot(features_df[['TOTAL_PURCHASES', 'TOTAL_ADS', 'TOTAL_LOGINS', 'TOTAL_POINTS', 'CHURNED']], diag_kind='kde', hue=\"CHURNED\",palette='husl')\n",
    "plt.suptitle('Pair Plot of Purchases and Ad Engagement Information by Churn', y=1.02, fontsize=20)\n",
    "plt.tight_layout()\n",
    "plt.show()"
   ]
  },
  {
   "cell_type": "code",
   "execution_count": null,
   "id": "e4a4f124-a2ef-4104-bb18-32d6c8bc99c2",
   "metadata": {
    "language": "python",
    "name": "churned_non_churned",
    "resultHeight": 0
   },
   "outputs": [],
   "source": [
    "churned_data = features_df[features_df[\"CHURNED\"] == 1]\n",
    "non_churned_data = features_df[features_df[\"CHURNED\"] == 0]\n",
    "one_class_count = len(churned_data)\n",
    "zero_class_count = len(non_churned_data)"
   ]
  },
  {
   "cell_type": "code",
   "execution_count": null,
   "id": "9d1a5db8-7168-4894-96d1-8fbb6c5e6032",
   "metadata": {
    "language": "python",
    "name": "totals_churn_relationship",
    "resultHeight": 489
   },
   "outputs": [],
   "source": [
    "# Plot TOTAL_LOGINS vs TOTAL_POINTS vs TOTAL_PURCHASES\n",
    "fig = go.Figure()\n",
    "\n",
    "# Add churned data points (red 'x')\n",
    "fig.add_trace(go.Scatter3d(\n",
    "    x=churned_data[\"TOTAL_LOGINS\"],\n",
    "    y=churned_data[\"TOTAL_POINTS\"],\n",
    "    z=churned_data[\"TOTAL_PURCHASES\"],\n",
    "    mode='markers',\n",
    "    marker=dict(size=6, color='red', symbol='x'),\n",
    "    name='Churned'\n",
    "))\n",
    "\n",
    "# Add non-churned data points (blue markers)\n",
    "fig.add_trace(go.Scatter3d(\n",
    "    x=non_churned_data[\"TOTAL_LOGINS\"],\n",
    "    y=non_churned_data[\"TOTAL_POINTS\"],\n",
    "    z=non_churned_data[\"TOTAL_PURCHASES\"],\n",
    "    mode='markers',\n",
    "    marker=dict(size=6, color='blue'),\n",
    "    name='Non-Churned'\n",
    "))\n",
    "\n",
    "# Set axis labels and title\n",
    "fig.update_layout(\n",
    "    title='Interactive 3D Plot of Total Logins, Total Points, and Total Purchases',\n",
    "    scene=dict(\n",
    "        xaxis_title='Total Logins',\n",
    "        yaxis_title='Total Points',\n",
    "        zaxis_title='Total Purchases'\n",
    "    ),\n",
    "    legend=dict(x=0.1, y=0.9)\n",
    ")\n",
    "\n",
    "# Show the plot\n",
    "fig"
   ]
  },
  {
   "cell_type": "markdown",
   "id": "d29b029c-174d-4495-a13e-54a849980774",
   "metadata": {
    "collapsed": false,
    "name": "Feature_Engineering",
    "resultHeight": 74
   },
   "source": [
    "# Feature Engineering"
   ]
  },
  {
   "cell_type": "code",
   "execution_count": null,
   "id": "f5aaeaf7-2d0e-46e1-98aa-b9dbbab2e725",
   "metadata": {
    "language": "python",
    "name": "use_ordinal_encoding",
    "resultHeight": 507
   },
   "outputs": [],
   "source": [
    "# use Ordinal Encoding for rank_name\n",
    "# use ordinal_encoding for player_type -> Hardcore:1, Casual:0\n",
    "# use ordinal encoding for gender -> Female:0, Male:1\n",
    "categories = {\"RANK_NAME\":[\"Bronze\", \"Silver\", \"Gold\", \"Platinum\", \"Diamond\", \"Elite\", \"Champion\", \"Unreal\"],\n",
    "             \"PLAYER_TYPE\":[\"Casual\", \"Hardcore\"],\n",
    "             \"GENDER\":[\"Female\", \"Male\"]} \n",
    "snowml_oe = OrdinalEncoder(input_cols=[\"RANK_NAME\", \"PLAYER_TYPE\", \"GENDER\"], output_cols=[\"RANK_NAME_OE\", \"PLAYER_TYPE_OE\", \"GENDER_OE\"], categories=categories)\n",
    "encoded_feature_df = snowml_oe.fit(features_df).transform(features_df)\n",
    "encoded_feature_df.head(10)"
   ]
  },
  {
   "cell_type": "code",
   "execution_count": null,
   "id": "bd3a0100-299f-49ab-b479-0b06989262e4",
   "metadata": {
    "language": "python",
    "name": "categorical_type_pd",
    "resultHeight": 439
   },
   "outputs": [],
   "source": [
    "encoded_feature_df[\"AGE_GROUP\"] = pd.Categorical(encoded_feature_df[\"AGE_GROUP\"], ordered=False)\n",
    "encoded_feature_df[\"LOCATION\"] = pd.Categorical(encoded_feature_df[\"LOCATION\"])\n",
    "encoded_feature_df['AGE_GROUP'] = encoded_feature_df['AGE_GROUP'].cat.codes\n",
    "encoded_feature_df['LOCATION'] = encoded_feature_df['LOCATION'].cat.codes\n",
    "encoded_feature_df['HAS_SUPPORT_TICKET'] = encoded_feature_df['HAS_SUPPORT_TICKET'].astype(int)\n",
    "encoded_feature_df.columns = [u.upper().strip('\"') for u in encoded_feature_df.columns]\n",
    "encoded_feature_df.columns"
   ]
  },
  {
   "cell_type": "code",
   "execution_count": null,
   "id": "1aad1c79-570d-44ca-9128-0502e2e13317",
   "metadata": {
    "collapsed": false,
    "language": "python",
    "name": "final_features",
    "resultHeight": 439
   },
   "outputs": [],
   "source": [
    "final_features_df = encoded_feature_df[[\"USER_ID\",\"AGE_GROUP\", \"LOCATION\",\"AVERAGE_SESSIONS_PER_ACTIVE_WEEK\", \"AVERAGE_SESSION_DURATION\", \\\n",
    "                                       \"HAS_SUPPORT_TICKET\", \"ACHIEVEMENTS_PERCENTAGE\", \\\n",
    "                                        \"PROPORTION_PURCHASED\", \"AVERAGE_PURCHASE_AMOUNT\", \\\n",
    "                                        \"AVERAGE_AD_ENGAGEMENT_TIME\",\\\n",
    "                                       \"RANK_NAME_OE\", \"PLAYER_TYPE_OE\", \"GENDER_OE\", \\\n",
    "                                       \"CHURNED\"]]\n",
    "final_features_corr_df = final_features_df[list(final_features_df.describe().columns)].corr().round(2)\n",
    "final_features_corr_df"
   ]
  },
  {
   "cell_type": "code",
   "execution_count": null,
   "id": "202beaf4-0dcc-4a93-b5a8-dc8faa10d836",
   "metadata": {
    "collapsed": false,
    "language": "python",
    "name": "final_features_heatmap",
    "resultHeight": 41
   },
   "outputs": [],
   "source": [
    "mask = np.triu(np.ones_like(final_features_corr_df, dtype=bool))\n",
    "# Create a heatmap with the features\n",
    "plt.figure(figsize=(18, 14))\n",
    "heatmap = sns.heatmap(final_features_corr_df, mask=mask, cmap=\"YlGnBu\", annot=True, vmin=-1, vmax=1)"
   ]
  },
  {
   "cell_type": "markdown",
   "id": "9ab35cfd-0bc5-49b9-b77a-ccbf2cde1a72",
   "metadata": {
    "name": "Model_Training",
    "resultHeight": 74
   },
   "source": [
    "# Model Training"
   ]
  },
  {
   "cell_type": "code",
   "execution_count": null,
   "id": "a995da83-a290-4a16-a9c3-5b7e093dd727",
   "metadata": {
    "collapsed": false,
    "language": "python",
    "name": "write_pandas_features",
    "resultHeight": 0
   },
   "outputs": [],
   "source": [
    "final_features_df = session.write_pandas(df=final_features_df, \\\n",
    "                     table_name=\"CHURN_FEATURES\", database=\"DANIEL_PLAYER360_PROD\", schema=\"APP\", \\\n",
    "                     quote_identifiers=False,\n",
    "                     auto_create_table=True,\n",
    "                     overwrite=True).to_pandas()"
   ]
  },
  {
   "cell_type": "code",
   "execution_count": null,
   "id": "aa1a8630-3251-466b-bb94-11e1e16bc760",
   "metadata": {
    "collapsed": false,
    "language": "python",
    "name": "train_test_split",
    "resultHeight": 0
   },
   "outputs": [],
   "source": [
    "y = final_features_df['CHURNED']\n",
    "X = final_features_df[list(final_features.columns)[1:-1]]\n",
    "X_train, X_test, y_train, y_test = train_test_split(X, y, test_size=0.2, random_state=42)"
   ]
  },
  {
   "cell_type": "code",
   "execution_count": null,
   "id": "40a5cd3a-6816-4cd6-bff6-27ecde6c9f36",
   "metadata": {
    "collapsed": false,
    "language": "python",
    "name": "model",
    "resultHeight": 278
   },
   "outputs": [],
   "source": [
    "model = xgb.XGBClassifier()\n",
    "model.fit(X_train, y_train)"
   ]
  },
  {
   "cell_type": "code",
   "execution_count": null,
   "id": "42e275ef-d061-48b3-a419-9e3961ebc901",
   "metadata": {
    "collapsed": false,
    "language": "python",
    "name": "predictions",
    "resultHeight": 239
   },
   "outputs": [],
   "source": [
    "predictions = model.predict_proba(X_test)\n",
    "y_pred = [1 if l[1] >= .4 else 0 for l in predictions]\n",
    "\n",
    "# Confusion matrix\n",
    "conf_matrix = confusion_matrix(y_test, y_pred)\n",
    "print(\"Confusion Matrix:\")\n",
    "print(conf_matrix)\n",
    "\n",
    "# Classification report\n",
    "class_report = classification_report(y_test, y_pred)\n",
    "print(\"Classification Report:\")\n",
    "print(class_report)"
   ]
  },
  {
   "cell_type": "markdown",
   "id": "331cad53-2aaf-4762-8951-9ddf98498ce1",
   "metadata": {
    "collapsed": false,
    "name": "Model_Registry",
    "resultHeight": 74
   },
   "source": [
    "# Model Registry"
   ]
  },
  {
   "cell_type": "code",
   "execution_count": null,
   "id": "ea1eabba-6d3f-42d0-9a98-8d81f101ddae",
   "metadata": {
    "language": "sql",
    "name": "Change_Schema",
    "resultHeight": 112
   },
   "outputs": [],
   "source": [
    "USE SCHEMA APP;"
   ]
  },
  {
   "cell_type": "code",
   "execution_count": null,
   "id": "624cf022-2f43-4671-b641-f1a43e193cc1",
   "metadata": {
    "collapsed": false,
    "language": "python",
    "name": "model_registry_log",
    "resultHeight": 227
   },
   "outputs": [],
   "source": [
    "from snowflake.ml.registry import Registry\n",
    "\n",
    "reg = Registry(session=session)\n",
    "\n",
    "MODEL_NAME = \"Player360_Churn_classifier\"\n",
    "MODEL_VERSION = \"v1\"\n",
    "\n",
    "mv = reg.log_model(model,\n",
    "                   model_name=MODEL_NAME,\n",
    "                   version_name=MODEL_VERSION,\n",
    "                   options={\n",
    "                       'relax_version': False,\n",
    "                       \"case_sensitive\": True,                  \n",
    "    },\n",
    "                    sample_input_data=X_test\n",
    ")\n",
    "\n",
    "reg.show_models()"
   ]
  },
  {
   "cell_type": "code",
   "execution_count": null,
   "id": "0f89677c-10d5-4a5f-8113-0ab9de48fac5",
   "metadata": {
    "collapsed": false,
    "language": "python",
    "name": "check_model",
    "resultHeight": 0
   },
   "outputs": [],
   "source": [
    "model_name = \"PLAYER360_CHURN_CLASSIFIER\"\n",
    "model_version = \"v1\"\n",
    "reg = Registry(session=session) \n",
    "mv= reg.get_model(model_name).version(model_version)"
   ]
  },
  {
   "cell_type": "code",
   "execution_count": null,
   "id": "c74baaf1-9a16-4963-92cb-e0929cb48cc0",
   "metadata": {
    "collapsed": false,
    "language": "python",
    "name": "load_model",
    "resultHeight": 95
   },
   "outputs": [],
   "source": [
    "mv = mv.load()"
   ]
  },
  {
   "cell_type": "code",
   "execution_count": null,
   "id": "24ee18a8-c821-41bc-be41-28579c2189d6",
   "metadata": {
    "language": "python",
    "name": "shap_explainer",
    "resultHeight": 41
   },
   "outputs": [],
   "source": [
    "explainer = shap.TreeExplainer(mv)\n",
    "\n",
    "# Calculate SHAP values\n",
    "shap_values = explainer(X_test)\n",
    "\n",
    "# Plot SHAP values\n",
    "shap.summary_plot(shap_values, X_test)"
   ]
  }
 ],
 "metadata": {
  "kernelspec": {
   "display_name": "Streamlit Notebook",
   "name": "streamlit"
  }
 },
 "nbformat": 4,
 "nbformat_minor": 5
}
